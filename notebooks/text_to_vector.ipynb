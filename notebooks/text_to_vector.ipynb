{
 "cells": [
  {
   "cell_type": "code",
   "execution_count": null,
   "id": "9466ce36-a3ac-4dbd-98cd-4ac6c749a753",
   "metadata": {},
   "outputs": [],
   "source": [
    "# install fastText as a python library\n",
    "!git clone https://github.com/facebookresearch/fastText.git\n",
    "!pip install fastText"
   ]
  },
  {
   "cell_type": "code",
   "execution_count": null,
   "id": "1416f29e-0372-4f11-ab62-c7c1161d7904",
   "metadata": {},
   "outputs": [],
   "source": [
    "# download pretrained word embeddings (english, crosslingual) from fasttext\n",
    "!python fastText/download_model.py en\n",
    "!mkdir models\n",
    "!mv cc.en.300.bin models/\n",
    "!rm cc.en.300.bin.gz"
   ]
  },
  {
   "cell_type": "code",
   "execution_count": null,
   "id": "0a77d47b-ad60-4b9f-98c3-2211afb16c18",
   "metadata": {},
   "outputs": [],
   "source": [
    "import numpy as np\n",
    "import re\n",
    "import fasttext as ft\n",
    "model = ft.load_model(\"models/cc.en.300.bin\")"
   ]
  },
  {
   "cell_type": "code",
   "execution_count": null,
   "id": "774ea073-6978-422c-9628-b7e32400566c",
   "metadata": {},
   "outputs": [],
   "source": [
    "def vectorize(text, tokenization_method=\"word\", combination_method=\"mean\"):\n",
    "    text = preprocess(text)\n",
    "    tokens = tokenize(text, tokenization_method)\n",
    "    vectors = embed(tokens, tokenization_method)\n",
    "    return combine_token_vectors(vectors, combination_method)\n",
    "\n",
    "##### HELPER FUNCTIONS ######\n",
    "\n",
    "def preprocess(text):\n",
    "    # Same preprocessing as fasttext example: \n",
    "    # https://github.com/facebookresearch/fastText/blob/master/classification-example.sh#L14\n",
    "    # See fasttext docs for more preprocessing:\n",
    "    # https://github.com/facebookresearch/fastText/tree/master/python#important-preprocessing-data--encoding-conventions\n",
    "    # Text should be converted to UTF-8 (not done here).\n",
    "    text = text.lower().replace(\"'\", \" ' \").replace('\"', \"\").replace(\".\", \" . \") \\\n",
    "        .replace(\"<br />\", \"\").replace(\",\", \" , \").replace(\"(\", \" ( \") \\\n",
    "        .replace(\")\", \" ) \").replace(\"!\", \" ! \").replace(\"?\", \" ? \") \\\n",
    "        .replace(\";\", \" \").replace(\":\", \" \")\n",
    "    text = \" \".join(text.split())\n",
    "    return text\n",
    "\n",
    "SENTENCE_DELIMITERS = \"\\.|;|\\!|\\?\"\n",
    "def tokenize(text, method=\"word\"):\n",
    "    if method == \"word\":\n",
    "        return ft.tokenize(text)\n",
    "    if method == \"sentence\":\n",
    "        return re.split(SENTENCE_DELIMITERS, text)\n",
    "\n",
    "def embed(list_of_strings, method=\"word\"):\n",
    "    vectors = []\n",
    "    for s in list_of_strings:\n",
    "        if method == \"word\":\n",
    "            vectors.append(model.get_word_vector(s))\n",
    "        elif method == \"sentence\":\n",
    "            vectors.append(model.get_sentence_vector(s))\n",
    "    return vectors\n",
    "\n",
    "def combine_token_vectors(vectors, method=\"mean\"):\n",
    "    if method == \"mean\":\n",
    "        return np.mean(vectors, axis=0)\n",
    "    if method == \"concatenate\":\n",
    "        return np.concatenate(vectors)"
   ]
  },
  {
   "cell_type": "code",
   "execution_count": null,
   "id": "ce24679c-8045-43f1-92d2-8e35203a0d16",
   "metadata": {},
   "outputs": [
    {
     "data": {
      "text/plain": [
       "(300,)"
      ]
     },
     "execution_count": 7,
     "metadata": {},
     "output_type": "execute_result"
    }
   ],
   "source": [
    "vector = vectorize(\"help me search for something\")\n",
    "vector.shape"
   ]
  }
 ],
 "metadata": {
  "kernelspec": {
   "display_name": "Python 3",
   "language": "python",
   "name": "python3"
  },
  "language_info": {
   "codemirror_mode": {
    "name": "ipython",
    "version": 3
   },
   "file_extension": ".py",
   "mimetype": "text/x-python",
   "name": "python",
   "nbconvert_exporter": "python",
   "pygments_lexer": "ipython3",
   "version": "3.7.10"
  }
 },
 "nbformat": 4,
 "nbformat_minor": 5
}
