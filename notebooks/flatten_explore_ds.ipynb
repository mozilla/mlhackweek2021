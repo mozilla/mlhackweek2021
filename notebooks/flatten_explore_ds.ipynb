{
 "cells": [
  {
   "cell_type": "markdown",
   "id": "9822cf60-b4fc-469e-9b06-a1b9e93aaad0",
   "metadata": {},
   "source": [
    "Load the search data and do some initial exploration"
   ]
  },
  {
   "cell_type": "code",
   "execution_count": null,
   "id": "4782e39c-4ff9-45c6-90ba-dcd3539a330d",
   "metadata": {},
   "outputs": [],
   "source": [
    "from google.cloud import bigquery\n",
    "\n",
    "# Construct a BigQuery client object.\n",
    "client = bigquery.Client()"
   ]
  },
  {
   "cell_type": "code",
   "execution_count": null,
   "id": "4c55b03a-b27a-47f9-97f3-d073d27097e7",
   "metadata": {},
   "outputs": [],
   "source": [
    "from tensorflow.python.framework import dtypes"
   ]
  },
  {
   "cell_type": "code",
   "execution_count": null,
   "id": "8d760990-9a7f-4894-b10f-6a2a5b8794da",
   "metadata": {},
   "outputs": [],
   "source": [
    "import pandas as pd\n",
    "\n",
    "pd.set_option(\"display.max_columns\", None)\n",
    "pd.set_option(\"display.max_colwidth\", None)"
   ]
  },
  {
   "cell_type": "code",
   "execution_count": null,
   "id": "26cf23ce-6aa3-4692-bcba-d71728a8d985",
   "metadata": {},
   "outputs": [],
   "source": [
    "tfclient = BigQueryClient()"
   ]
  },
  {
   "cell_type": "code",
   "execution_count": null,
   "id": "7516a8de-edfa-44bc-944f-e228f9e7eba4",
   "metadata": {},
   "outputs": [],
   "source": [
    "GCP_PROJECT_ID = 'dataorg-hackweek-2021'\n",
    "DATASET_PROJECT_ID = \"moz-fx-data-shared-prod\"\n",
    "DATASET_ID = f\"{DATASET_PROJECT_ID}.mlhackweek_search_live\"\n",
    "TABLE_ID = f\"{DATASET_ID}.action_v1\""
   ]
  },
  {
   "cell_type": "code",
   "execution_count": null,
   "id": "901f5d62-0fb7-40f6-ace1-6a980d918192",
   "metadata": {},
   "outputs": [],
   "source": [
    "%load_ext google.cloud.bigquery"
   ]
  },
  {
   "cell_type": "markdown",
   "id": "9114f53d-c7ac-4bac-9430-af4088472ab9",
   "metadata": {},
   "source": [
    "Try to load a few columns into TensorFlow. Fails on nested struct columns"
   ]
  },
  {
   "cell_type": "code",
   "execution_count": null,
   "id": "d91e41ba-e356-4d4f-9214-b9891700f7dc",
   "metadata": {},
   "outputs": [],
   "source": [
    "rs = tfclient.read_session(\n",
    "    f\"projects/{GCP_PROJECT_ID}\",\n",
    "    DATASET_PROJECT_ID,\n",
    "    \"action_v1\",\n",
    "    \"mlhackweek_search_live\",\n",
    "    [\"document_id\", \"ping_info.end_time\"],\n",
    "    [dtypes.string, dtypes.string],\n",
    "    \"submission_timestamp > '2021-01-19'\"\n",
    ")"
   ]
  },
  {
   "cell_type": "code",
   "execution_count": null,
   "id": "48f3dc08-9a3c-4184-bf9e-22b274450ded",
   "metadata": {},
   "outputs": [],
   "source": [
    "d = rs.parallel_read_rows()"
   ]
  },
  {
   "cell_type": "code",
   "execution_count": null,
   "id": "881c96ae-49df-45a2-8818-c6735ff36015",
   "metadata": {},
   "outputs": [],
   "source": [
    "d"
   ]
  },
  {
   "cell_type": "code",
   "execution_count": null,
   "id": "6a6080a8-29e6-4f30-85e5-cefe4b55fbd7",
   "metadata": {},
   "outputs": [],
   "source": [
    "# This causes the kernel to crash\n",
    "# list(d.take(5).as_numpy_iterator())"
   ]
  },
  {
   "cell_type": "markdown",
   "id": "f6e82a5f-1897-4eae-b74c-6fe37ea677fb",
   "metadata": {},
   "source": [
    "Load the table from BigQuery"
   ]
  },
  {
   "cell_type": "code",
   "execution_count": null,
   "id": "c0c0ae14-4cd2-463b-a834-479fd591dae1",
   "metadata": {},
   "outputs": [],
   "source": [
    "TABLE_ID"
   ]
  },
  {
   "cell_type": "code",
   "execution_count": null,
   "id": "8b2e227b-8ba6-45a7-9dc6-e7a0bb3d3417",
   "metadata": {},
   "outputs": [],
   "source": [
    "table = client.get_table(TABLE_ID)"
   ]
  },
  {
   "cell_type": "markdown",
   "id": "c21bebf8-10fa-4e5d-9baa-b055ae1048d0",
   "metadata": {},
   "source": [
    "Take a look at the schema for the `metrics` columns."
   ]
  },
  {
   "cell_type": "code",
   "execution_count": null,
   "id": "6d113134-02a9-43a5-bf46-38b17fb0d9ed",
   "metadata": {},
   "outputs": [],
   "source": [
    "# Write full schema to JSON file\n",
    "client.schema_to_json(table.schema, \"search_table_schema.json\")"
   ]
  },
  {
   "cell_type": "markdown",
   "id": "17afc671-c377-42c7-ad2f-3a5abb491905",
   "metadata": {},
   "source": [
    "Extract some basic info for metrics columns"
   ]
  },
  {
   "cell_type": "code",
   "execution_count": null,
   "id": "71dacc7e-7d9c-404a-b164-653ce7b5658f",
   "metadata": {},
   "outputs": [],
   "source": [
    "# Schema object is nested lists of lists of Field objects\n",
    "schema_metrics = [x for x in table.schema if x.name == \"metrics\"][0]\n",
    "\n",
    "metrics_info = []\n",
    "\n",
    "for f in schema_metrics.fields:\n",
    "    for ff in f.fields:\n",
    "        metrics_info.append({\n",
    "            \"name\": f\"{f.name}.{ff.name}\",\n",
    "            \"type\": ff.field_type,\n",
    "            \"description\": ff.description.strip() if ff.description else None\n",
    "        })"
   ]
  },
  {
   "cell_type": "code",
   "execution_count": null,
   "id": "7d34acc4-b1dd-47f1-9b95-46ee656bc3fb",
   "metadata": {},
   "outputs": [],
   "source": [
    "pd.DataFrame(metrics_info)"
   ]
  },
  {
   "cell_type": "code",
   "execution_count": null,
   "id": "cb882dfc-4721-4b16-bdcd-b3ecfe1cef8b",
   "metadata": {},
   "outputs": [],
   "source": [
    "%%bigquery\n",
    "\n",
    "SELECT\n",
    "    metrics.*\n",
    "FROM `moz-fx-data-shared-prod.mlhackweek_search_live.action_v1`\n",
    "where\n",
    "    DATE(submission_timestamp) >= DATE('2021-01-19')\n",
    "    AND metrics.string.search_meta_session_id is not NULL\n",
    "LIMIT 1"
   ]
  },
  {
   "cell_type": "markdown",
   "id": "60480bf8-4a76-42e0-8abe-7f5b8f64fcc1",
   "metadata": {},
   "source": [
    "Flatten out the nested columns of interest using BigQuery SQL.\n",
    "The nested columns are arrays of key-value pairs. Corresponding entries match up by position.\n",
    "To extract nested values, zip together individual arrays into a big array of structs, then unnest that single array, extract values."
   ]
  },
  {
   "cell_type": "code",
   "execution_count": null,
   "id": "d9de3253-7d08-4c2d-b08c-1d1480fee548",
   "metadata": {},
   "outputs": [],
   "source": [
    "%%bigquery search_data_flat\n",
    "\n",
    "with subset as (\n",
    "    SELECT\n",
    "        metrics.string.search_meta_search_text as search_text,\n",
    "        metrics.datetime.search_meta_url_select_timestamp as ts,\n",
    "        metrics.string.search_meta_session_id as session_id,\n",
    "        metrics.labeled_counter.search_meta_position as position,\n",
    "        metrics.labeled_string.search_meta_url as url,\n",
    "        metrics.labeled_string.search_meta_hostname as hostname,\n",
    "        metrics.labeled_string.search_meta_title as title,\n",
    "        metrics.labeled_string.search_meta_short_description as descr,\n",
    "        metrics.labeled_string.search_meta_preamble as preamble,\n",
    "        metrics.labeled_boolean.search_meta_selected as selected\n",
    "    FROM\n",
    "        `moz-fx-data-shared-prod.mlhackweek_search_live.action_v1`\n",
    "    WHERE\n",
    "        DATE(submission_timestamp) >= DATE('2021-01-19')\n",
    "        and metrics.string.search_meta_session_id is not NULL\n",
    "),\n",
    "zipped as (\n",
    "    # Each of the metrics columns are arrays of key-value pairs\n",
    "    # Entries match up by position, so we can drop keys and extract values\n",
    "    SELECT\n",
    "        search_text,\n",
    "        ts,\n",
    "        session_id,\n",
    "        array_agg(\n",
    "            struct(\n",
    "                pos.value as position,\n",
    "                url[offset(pos_offset)].value as url,\n",
    "                hostname[offset(pos_offset)].value as hostname,\n",
    "                title[offset(pos_offset)].value as title,\n",
    "                descr[offset(pos_offset)].value as descr,\n",
    "                preamble[offset(pos_offset)].value as preamble,\n",
    "                selected[offset(pos_offset)].value as selected\n",
    "            )\n",
    "        ) as arr,\n",
    "        sum(cast(selected[offset(pos_offset)].value as int)) as n_selected\n",
    "    # Unnest one of the nested columns, and use its offset (index)\n",
    "    # to index all of the others.\n",
    "    FROM subset, unnest(position) as pos\n",
    "    with offset as pos_offset\n",
    "    GROUP BY search_text, ts, session_id\n",
    ")\n",
    "select\n",
    "    search_text,\n",
    "    ts,\n",
    "    session_id,\n",
    "    array_length(zipped.arr) as n_results,\n",
    "    n_selected,\n",
    "    arr.position,\n",
    "    arr.url,\n",
    "    arr.hostname,\n",
    "    arr.title,\n",
    "    arr.descr,\n",
    "    arr.preamble,\n",
    "    arr.selected\n",
    "# Implicit unnesting explodes array column\n",
    "from zipped, zipped.arr"
   ]
  },
  {
   "cell_type": "code",
   "execution_count": null,
   "id": "d15218f2-8d9f-4bab-9002-933865a5d86b",
   "metadata": {},
   "outputs": [],
   "source": [
    "search_data_flat.head()"
   ]
  },
  {
   "cell_type": "markdown",
   "id": "4009b60a-f838-48d6-b41b-17c70c905669",
   "metadata": {},
   "source": [
    "Take a look at search sessions: num selected results, num unique queries, num total queries"
   ]
  },
  {
   "cell_type": "code",
   "execution_count": null,
   "id": "2b7d9219-c2a1-4aec-92e4-fc26041fce24",
   "metadata": {},
   "outputs": [],
   "source": [
    "(\n",
    "    search_data_flat\n",
    "    .groupby([\"session_id\", \"n_selected\"])\n",
    "    .agg({\"search_text\": [\"nunique\", \"count\"]})\n",
    "    .rename(columns={\"nunique\": \"n_unique_query_text\", \"count\": \"n_queries_issued\"})\n",
    "    .droplevel(0, axis=\"columns\")\n",
    "    .sort_values([\"n_unique_query_text\", \"n_queries_issued\"], ascending=False)\n",
    "    .reset_index()\n",
    ")"
   ]
  }
 ],
 "metadata": {
  "environment": {
   "name": "tf2-gpu.2-3.m80",
   "type": "gcloud",
   "uri": "gcr.io/deeplearning-platform-release/tf2-gpu.2-3:m80"
  },
  "kernelspec": {
   "display_name": "Python 3",
   "language": "python",
   "name": "python3"
  },
  "language_info": {
   "codemirror_mode": {
    "name": "ipython",
    "version": 3
   },
   "file_extension": ".py",
   "mimetype": "text/x-python",
   "name": "python",
   "nbconvert_exporter": "python",
   "pygments_lexer": "ipython3",
   "version": "3.7.10"
  }
 },
 "nbformat": 4,
 "nbformat_minor": 5
}
